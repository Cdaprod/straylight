{
 "cells": [
  {
   "cell_type": "code",
   "execution_count": null,
   "metadata": {},
   "outputs": [],
   "source": [
    "# Core configuration notebook"
   ]
  },
  {
   "cell_type": "code",
   "execution_count": null,
   "metadata": {},
   "outputs": [],
   "source": [
    "import sys\n",
    "import json"
   ]
  },
  {
   "cell_type": "code",
   "execution_count": null,
   "metadata": {},
   "outputs": [],
   "source": [
    "# Install dependencies for tools-r7sonar\n",
    "def dependencies_r7sonar():\n",
    "    !{sys.executable} -m pip install geoip2\n",
    "    !{sys.executable} -m pip install gmaps\n",
    "    !{sys.executable} -m pip install wget\n",
    "    \n",
    "#dependencies_r7sonar()"
   ]
  },
  {
   "cell_type": "code",
   "execution_count": null,
   "metadata": {},
   "outputs": [],
   "source": [
    "# Install dependencies for tools-commoncrawl\n",
    "def dependencies_commoncrawl():\n",
    "    !{sys.executable} -m pip install requests\n",
    "    !{sys.executable} -m pip install beautifulsoup4\n",
    "    !{sys.executable} -m pip install warcio\n",
    "    !{sys.executable} -m pip install dask\n",
    "\n",
    "#dependencies_commoncrawl()"
   ]
  },
  {
   "cell_type": "code",
   "execution_count": null,
   "metadata": {},
   "outputs": [],
   "source": [
    "# If the notebook is running in AWS SageMaker, this part needs to be added to the lifecycle configuration.\n",
    "!pip install jupyter_contrib_nbextensions\n",
    "!jupyter nbextension enable --py gmaps\n",
    "!jupyter nbextension enable --py widgetsnbextension"
   ]
  },
  {
   "cell_type": "code",
   "execution_count": null,
   "metadata": {},
   "outputs": [],
   "source": [
    "# Only need to run once\n",
    "! mkdir tools\n",
    "! mkdir tmp"
   ]
  }
 ],
 "metadata": {
  "kernelspec": {
   "display_name": "conda_python3",
   "language": "python",
   "name": "conda_python3"
  },
  "language_info": {
   "codemirror_mode": {
    "name": "ipython",
    "version": 3
   },
   "file_extension": ".py",
   "mimetype": "text/x-python",
   "name": "python",
   "nbconvert_exporter": "python",
   "pygments_lexer": "ipython3",
   "version": "3.6.10"
  }
 },
 "nbformat": 4,
 "nbformat_minor": 4
}
