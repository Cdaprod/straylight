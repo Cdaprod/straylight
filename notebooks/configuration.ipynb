{
 "cells": [
  {
   "cell_type": "code",
   "execution_count": null,
   "metadata": {},
   "outputs": [],
   "source": [
    "# Utilized for the IP address lookups and mapping\n",
    "! pip install geoip2"
   ]
  },
  {
   "cell_type": "code",
   "execution_count": null,
   "metadata": {},
   "outputs": [],
   "source": [
    "! pip install gmaps"
   ]
  },
  {
   "cell_type": "code",
   "execution_count": null,
   "metadata": {},
   "outputs": [],
   "source": [
    "! pip install wget"
   ]
  },
  {
   "cell_type": "code",
   "execution_count": null,
   "metadata": {},
   "outputs": [],
   "source": [
    "# If the notebook is running in AWS SageMaker, this part needs to be added to the lifecycle configuration.\n",
    "!pip install jupyter_contrib_nbextensions\n",
    "!jupyter nbextension enable --py gmaps\n",
    "!jupyter nbextension enable --py widgetsnbextension"
   ]
  },
  {
   "cell_type": "code",
   "execution_count": null,
   "metadata": {},
   "outputs": [],
   "source": [
    "# Only need to run once\n",
    "! mkdir tools\n",
    "! mkdir tmp"
   ]
  },
  {
   "cell_type": "code",
   "execution_count": null,
   "metadata": {},
   "outputs": [],
   "source": [
    "# Load an external notebook with core functions to retrieve the secret\n",
    "%run ./corefunctions.ipynb\n",
    "import json\n",
    "\n",
    "secret_name = 'AmazonSageMaker-geoip'\n",
    "region_name = 'us-east-1'\n",
    "license_key = get_secret(secret_name, region_name)\n",
    "# The return value of the function contains the {secretname:secretvalue}. To only utilize the secret, the secretname can be referenced as depicted below.\n",
    "licensesecret = license_key['license_key']\n",
    "\n",
    "# Begin process to download file, unzip, move into correct location, and cleanup extra files.\n",
    "geoipurl = 'https://download.maxmind.com/app/geoip_download?edition_id=GeoLite2-City&license_key=' + licensesecret + '&suffix=tar.gz'\n",
    "wgetdownload = ' -O GeoLite2-City.tar.gz ' + '\\'' + geoipurl + '\\''\n",
    "! cd tmp\n",
    "! wget {wgetdownload}\n",
    "! cd ..\n",
    "! mv GeoLite2-City.tar.gz tmp/\n",
    "! tar -xf tmp/GeoLite2-City.tar.gz -C tmp\n",
    "! find tmp/ -name GeoLite2-City.mmdb -type f -exec /bin/mv {} tools/ \\;\n",
    "! rm -rf tmp/*\n"
   ]
  },
  {
   "cell_type": "code",
   "execution_count": null,
   "metadata": {},
   "outputs": [],
   "source": [
    "# Needed for Common Crawl WARC files\n",
    "! pip install warcio"
   ]
  },
  {
   "cell_type": "code",
   "execution_count": null,
   "metadata": {},
   "outputs": [],
   "source": [
    "# Needed for displaying URLs\n",
    "! pip install requests\n",
    "! pip install beautifulsoup4\n",
    "! pip install graphviz"
   ]
  },
  {
   "cell_type": "code",
   "execution_count": null,
   "metadata": {},
   "outputs": [],
   "source": [
    "!pip install jupyter_contrib_nbextensions\n",
    "# Need to enable extensions and widgets before figure will display\n",
    "!jupyter nbextension enable --py gmaps\n",
    "!jupyter nbextension enable --py widgetsnbextension"
   ]
  }
 ],
 "metadata": {
  "kernelspec": {
   "display_name": "conda_python3",
   "language": "python",
   "name": "conda_python3"
  },
  "language_info": {
   "codemirror_mode": {
    "name": "ipython",
    "version": 3
   },
   "file_extension": ".py",
   "mimetype": "text/x-python",
   "name": "python",
   "nbconvert_exporter": "python",
   "pygments_lexer": "ipython3",
   "version": "3.6.5"
  }
 },
 "nbformat": 4,
 "nbformat_minor": 4
}
