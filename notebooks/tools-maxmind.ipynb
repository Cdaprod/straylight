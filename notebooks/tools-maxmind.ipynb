{
 "cells": [
  {
   "cell_type": "code",
   "execution_count": null,
   "metadata": {},
   "outputs": [],
   "source": [
    "# Core notebook for maxmind data preparation"
   ]
  },
  {
   "cell_type": "code",
   "execution_count": null,
   "metadata": {},
   "outputs": [],
   "source": [
    "# Load an external notebook with core functions to retrieve the secret\n",
    "\n",
    "def maxmind_geoliteasn(licensesecret):\n",
    "    # Begin process to download file, unzip, move into correct location, and cleanup extra files.\n",
    "    geoipurl = 'https://download.maxmind.com/app/geoip_download?edition_id=GeoLite2-ASN&license_key=' + licensesecret + '&suffix=tar.gz'\n",
    "    wgetdownload = ' -O GeoLite2-ASN.tar.gz ' + '\\'' + geoipurl + '\\''\n",
    "    ! cd tmp\n",
    "    ! wget {wgetdownload}\n",
    "    ! cd ..\n",
    "    ! mv GeoLite2-ASN.tar.gz tmp/\n",
    "    ! tar -xf tmp/GeoLite2-ASN.tar.gz -C tmp\n",
    "    ! find tmp/ -name GeoLite2-ASN.mmdb -type f -exec /bin/mv {} tools/ \\;\n",
    "    ! rm -rf tmp/*\n",
    "\n",
    "def maxmind_geolitecity_db(licensesecret):\n",
    "    # Begin process to download file, unzip, move into correct location, and cleanup extra files.\n",
    "    geoipurl = 'https://download.maxmind.com/app/geoip_download?edition_id=GeoLite2-City&license_key=' + licensesecret + '&suffix=tar.gz'\n",
    "    wgetdownload = ' -O GeoLite2-City.tar.gz ' + '\\'' + geoipurl + '\\''\n",
    "    ! cd tmp\n",
    "    ! wget {wgetdownload}\n",
    "    ! cd ..\n",
    "    ! mv GeoLite2-City.tar.gz tmp/\n",
    "    ! tar -xf tmp/GeoLite2-City.tar.gz -C tmp\n",
    "    ! find tmp/ -name GeoLite2-City.mmdb -type f -exec /bin/mv {} tools/ \\;\n",
    "    ! rm -rf tmp/*\n",
    "\n",
    "def maxmind_geoliteasn_csv(licensesecret):\n",
    "    # Begin process to download file, unzip, move into correct location, and cleanup extra files.\n",
    "    #geoipurl = 'https://download.maxmind.com/app/geoip_download?edition_id=GeoLite2-City-CSV&license_key=' + licensesecret + '&suffix=zip'\n",
    "    geoipurl = 'https://download.maxmind.com/app/geoip_download?edition_id=GeoLite2-ASN-CSV&license_key=' + licensesecret + '&suffix=zip'\n",
    "    wgetdownload = ' -O GeoLite2-ASN-CSV.zip ' + '\\'' + geoipurl + '\\''\n",
    "    ! cd tmp\n",
    "    ! wget {wgetdownload}\n",
    "    ! cd ..\n",
    "    ! mv GeoLite2-ASN-CSV.zip tmp/\n",
    "    ! unzip -o tmp/GeoLite2-ASN-CSV.zip -d tmp\n",
    "    ! find tmp/ -name GeoLite2-ASN-Blocks-IPv4.csv -type f -exec /bin/mv {} tools/ \\;\n",
    "    ! find tmp/ -name GeoLite2-ASN-Blocks-IPv6.csv -type f -exec /bin/mv {} tools/ \\;\n",
    "    ! rm -rf tmp/*\n",
    "\n",
    "def maxmind_geolitecity_csv(licensesecret):\n",
    "    # Begin process to download file, unzip, move into correct location, and cleanup extra files.\n",
    "    geoipurl = 'https://download.maxmind.com/app/geoip_download?edition_id=GeoLite2-City-CSV&license_key=' + licensesecret + '&suffix=zip'\n",
    "    wgetdownload = ' -O GeoLite2-City-CSV.zip ' + '\\'' + geoipurl + '\\''\n",
    "    ! cd tmp\n",
    "    ! wget {wgetdownload}\n",
    "    ! cd ..\n",
    "    ! mv GeoLite2-City-CSV.zip tmp/\n",
    "    ! unzip -o tmp/GeoLite2-City-CSV.zip -d tmp\n",
    "    ! find tmp/ -name GeoLite2-City-Blocks-IPv4.csv -type f -exec /bin/mv {} tools/ \\;\n",
    "    ! find tmp/ -name GeoLite2-City-Blocks-IPv6.csv -type f -exec /bin/mv {} tools/ \\;\n",
    "    ! rm -rf tmp/*"
   ]
  },
  {
   "cell_type": "code",
   "execution_count": null,
   "metadata": {},
   "outputs": [],
   "source": [
    "# Load IPv4 ASN\n",
    "#dfASN = pd.read_csv('tools/GeoLite2-ASN-Blocks-IPv4.csv', sep=',')\n",
    "#dfASN = pd.read_csv('s3://brevity-datasets/GeoLite2-ASN-Blocks-IPv4.csv', sep=',')\n",
    "\n",
    "#dfASN.head(20)"
   ]
  },
  {
   "cell_type": "code",
   "execution_count": null,
   "metadata": {},
   "outputs": [],
   "source": [
    "import pandas as pd\n",
    "\n",
    "def search_asn_org(search_value):\n",
    "    dfASN = pd.read_csv('tools/GeoLite2-ASN-Blocks-IPv4.csv', sep=',')\n",
    "    #dfASN = pd.read_csv('s3://brevity-datasets/GeoLite2-ASN-Blocks-IPv4.csv', sep=',')\n",
    "    return dfASN[dfASN['autonomous_system_organization'].str.contains(search_value, case=False, na=False)]\n",
    "\n",
    "def search_asn_number(search_value):\n",
    "    dfASN = pd.read_csv('tools/GeoLite2-ASN-Blocks-IPv4.csv', sep=',')\n",
    "    #dfASN = pd.read_csv('s3://brevity-datasets/GeoLite2-ASN-Blocks-IPv4.csv', sep=',')\n",
    "    return dfASN.loc[dfASN['autonomous_system_number'] == int(search_value)]"
   ]
  },
  {
   "cell_type": "code",
   "execution_count": null,
   "metadata": {},
   "outputs": [],
   "source": [
    "# Load IPv4 ASN\n",
    "#dfASN = pd.read_csv('tools/GeoLite2-ASN-Blocks-IPv4.csv', sep=',')\n",
    "#dfASN = pd.read_csv('s3://brevity-datasets/GeoLite2-City-Blocks-IPv4.csv', sep=',')\n",
    "\n",
    "#dfASN.head(20)"
   ]
  },
  {
   "cell_type": "markdown",
   "metadata": {},
   "source": []
  }
 ],
 "metadata": {
  "kernelspec": {
   "display_name": "conda_python3",
   "language": "python",
   "name": "conda_python3"
  },
  "language_info": {
   "codemirror_mode": {
    "name": "ipython",
    "version": 3
   },
   "file_extension": ".py",
   "mimetype": "text/x-python",
   "name": "python",
   "nbconvert_exporter": "python",
   "pygments_lexer": "ipython3",
   "version": "3.6.10"
  }
 },
 "nbformat": 4,
 "nbformat_minor": 4
}
