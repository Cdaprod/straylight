{
 "cells": [
  {
   "cell_type": "code",
   "execution_count": null,
   "metadata": {},
   "outputs": [],
   "source": [
    "# Notebook to search ASN"
   ]
  },
  {
   "cell_type": "code",
   "execution_count": null,
   "metadata": {},
   "outputs": [],
   "source": [
    "import json\n",
    "import pandas as pd"
   ]
  },
  {
   "cell_type": "code",
   "execution_count": null,
   "metadata": {},
   "outputs": [],
   "source": [
    "%run ./corefunctions.ipynb"
   ]
  },
  {
   "cell_type": "code",
   "execution_count": null,
   "metadata": {},
   "outputs": [],
   "source": [
    "%run ./tools-maxmind.ipynb"
   ]
  },
  {
   "cell_type": "code",
   "execution_count": null,
   "metadata": {},
   "outputs": [],
   "source": [
    "# Download and prepare the ASN files\n",
    "secret_name = 'AmazonSageMaker-geoip'\n",
    "region_name = 'us-east-1'\n",
    "license_key = get_secret(secret_name, region_name)\n",
    "# The return value of the function contains the {secretname:secretvalue}. To only utilize the secret, the secretname can be referenced as depicted below.\n",
    "licensesecret = license_key['license_key']\n",
    "\n",
    "# https://download.maxmind.com/app/geoip_download?edition_id=GeoLite2-City-CSV&license_key=YOUR_LICENSE_KEY&suffix=zip\n",
    "\n",
    "maxmind_geoliteasn_csv(licensesecret)"
   ]
  },
  {
   "cell_type": "code",
   "execution_count": null,
   "metadata": {},
   "outputs": [],
   "source": [
    "# Search ASNs\n",
    "\n",
    "search_org = 'Microsoft' # Customize this for your search name\n",
    "dfASNOrg = search_asn_org(search_org)\n",
    "\n",
    "search_num = 8075\n",
    "dfASNNumber = search_asn_number(search_num)\n",
    "\n",
    "#dfASNOrg.to_csv('s3://recon.brevityinmotion.com/dfASNNumber.csv', header=True, index=False) \n",
    "dfASNOrg\n",
    "#dfASNNumber"
   ]
  },
  {
   "cell_type": "code",
   "execution_count": null,
   "metadata": {},
   "outputs": [],
   "source": [
    "## Upload CSV files to S3 for Athena queries\n",
    "#\n",
    "#bucket = 'brevity-datasets'\n",
    "#file_name = 'tools/GeoLite2-ASN-Blocks-IPv4.csv'\n",
    "#object_name = 'GeoLite2-ASN-Blocks-IPv4.csv'\n",
    "#\n",
    "#status = upload_file(file_name, bucket, object_name)\n",
    "#print(status)"
   ]
  },
  {
   "cell_type": "code",
   "execution_count": null,
   "metadata": {},
   "outputs": [],
   "source": [
    "# Load IPv4 ASN\n",
    "#dfASN = pd.read_csv('tools/GeoLite2-ASN-Blocks-IPv4.csv', sep=',')\n",
    "#dfASN = pd.read_csv('s3://brevity-datasets/GeoLite2-ASN-Blocks-IPv4.csv', sep=',')\n",
    "\n",
    "#dfASN.head(20)"
   ]
  }
 ],
 "metadata": {
  "kernelspec": {
   "display_name": "conda_python3",
   "language": "python",
   "name": "conda_python3"
  },
  "language_info": {
   "codemirror_mode": {
    "name": "ipython",
    "version": 3
   },
   "file_extension": ".py",
   "mimetype": "text/x-python",
   "name": "python",
   "nbconvert_exporter": "python",
   "pygments_lexer": "ipython3",
   "version": "3.6.10"
  }
 },
 "nbformat": 4,
 "nbformat_minor": 4
}
